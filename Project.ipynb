{
 "cells": [
  {
   "cell_type": "code",
   "execution_count": 1,
   "id": "a64c18ce-0527-47e1-8903-ebd572dfd9c5",
   "metadata": {},
   "outputs": [
    {
     "name": "stdout",
     "output_type": "stream",
     "text": [
      "22/10/27 20:50:47 WARN SparkSession: Using an existing Spark session; only runtime SQL configurations will take effect.\n"
     ]
    }
   ],
   "source": [
    "# if you installed Spark on windows, \n",
    "# you may need findspark and need to initialize it prior to being able to use pyspark\n",
    "# Also, you may need to initialize SparkContext yourself.\n",
    "# Uncomment the following lines if you are using Windows!\n",
    "#import findspark\n",
    "#findspark.init()\n",
    "#findspark.find()\n",
    "\n",
    "import pyspark\n",
    "from pyspark import SparkContext, SparkConf, SQLContext\n",
    "from pyspark.sql import SparkSession\n",
    "\n",
    "from pyspark.sql import SparkSession\n",
    "\n",
    "spark = SparkSession.builder \\\n",
    "    .master(\"local[*]\") \\\n",
    "    .appName(\"GenericAppName\") \\\n",
    "    .getOrCreate()"
   ]
  },
  {
   "cell_type": "code",
   "execution_count": 2,
   "id": "dfcd5f48-ed4e-44fb-84c8-d21643a1712d",
   "metadata": {},
   "outputs": [],
   "source": [
    "from pyspark.sql.functions import *"
   ]
  },
  {
   "cell_type": "code",
   "execution_count": 3,
   "id": "6c84db8d-3acd-447b-a2f2-4f0b35a58a53",
   "metadata": {},
   "outputs": [
    {
     "name": "stderr",
     "output_type": "stream",
     "text": [
      "                                                                                \r"
     ]
    }
   ],
   "source": [
    "path1=[\"train70_reduced.csv\"]\n",
    "path2=[\"test30_reduced.csv\"]\n",
    "df1 = spark.read.csv(path1,header=True, inferSchema= True) #training dataframe\n",
    "df2=spark.read.csv(path2,header=True, inferSchema= True) # test dataframe"
   ]
  },
  {
   "cell_type": "code",
   "execution_count": 4,
   "id": "9b40ff9c-796d-4fe1-a4cd-805be6753460",
   "metadata": {},
   "outputs": [],
   "source": [
    "from pyspark.sql.functions import lit\n",
    "df1=df1.withColumn(\"istrain\", lit('1'))\n",
    "df2=df2.withColumn(\"istrain\", lit('0')) "
   ]
  },
  {
   "cell_type": "code",
   "execution_count": 22,
   "id": "61a5389a-f8c7-432e-b281-001af037d50c",
   "metadata": {},
   "outputs": [],
   "source": [
    "db_properties={}\n",
    "#update your db username\n",
    "db_properties['username']=\"postgres\"\n",
    "#update your db password\n",
    "db_properties['password']=\"1234\"\n",
    "#make sure you got the right port number here\n",
    "db_properties['url']= \"jdbc:postgresql://localhost:5432/postgres\"\n",
    "#make sure you had the Postgres JAR file in the right location\n",
    "db_properties['driver']=\"org.postgresql.Driver\"\n",
    "db_properties['table']= \"mqtt.mqtt_reduced\"\n"
   ]
  },
  {
   "cell_type": "code",
   "execution_count": 23,
   "id": "96b18816-9fcd-4b58-b000-04bacbd56d54",
   "metadata": {},
   "outputs": [
    {
     "name": "stderr",
     "output_type": "stream",
     "text": [
      "                                                                                \r"
     ]
    }
   ],
   "source": [
    "\n",
    "df1.write.format(\"jdbc\")\\\n",
    ".mode(\"overwrite\")\\\n",
    ".option(\"url\", db_properties['url'])\\\n",
    ".option(\"dbtable\", db_properties['table'])\\\n",
    ".option(\"user\", db_properties['username'])\\\n",
    ".option(\"password\", db_properties['password'])\\\n",
    ".option(\"Driver\", db_properties['driver'])\\\n",
    ".save()\n",
    "\n",
    "df2.write.format(\"jdbc\")\\\n",
    ".mode(\"append\")\\\n",
    ".option(\"url\", db_properties['url'])\\\n",
    ".option(\"dbtable\", db_properties['table'])\\\n",
    ".option(\"user\", db_properties['username'])\\\n",
    ".option(\"password\", db_properties['password'])\\\n",
    ".option(\"Driver\", db_properties['driver'])\\\n",
    ".save()\n"
   ]
  },
  {
   "cell_type": "code",
   "execution_count": 24,
   "id": "170e7c58-ed6c-4bfa-8b36-3bd31ec314e1",
   "metadata": {},
   "outputs": [],
   "source": [
    "df_read = spark.read.format(\"jdbc\")\\\n",
    "    .option(\"url\", db_properties['url'])\\\n",
    "    .option(\"dbtable\", db_properties['table'])\\\n",
    "    .option(\"user\", db_properties['username'])\\\n",
    "    .option(\"password\", db_properties['password'])\\\n",
    "    .option(\"Driver\", db_properties['driver'])\\\n",
    "    .load()"
   ]
  },
  {
   "cell_type": "code",
   "execution_count": 25,
   "id": "4ddb75f1-6545-489d-909f-abb520b68e0f",
   "metadata": {},
   "outputs": [
    {
     "name": "stdout",
     "output_type": "stream",
     "text": [
      "root\n",
      " |-- tcp.flags: string (nullable = true)\n",
      " |-- tcp.time_delta: double (nullable = true)\n",
      " |-- tcp.len: integer (nullable = true)\n",
      " |-- mqtt.conack.flags: string (nullable = true)\n",
      " |-- mqtt.conack.flags.reserved: double (nullable = true)\n",
      " |-- mqtt.conack.flags.sp: double (nullable = true)\n",
      " |-- mqtt.conack.val: double (nullable = true)\n",
      " |-- mqtt.conflag.cleansess: double (nullable = true)\n",
      " |-- mqtt.conflag.passwd: double (nullable = true)\n",
      " |-- mqtt.conflag.qos: double (nullable = true)\n",
      " |-- mqtt.conflag.reserved: double (nullable = true)\n",
      " |-- mqtt.conflag.retain: double (nullable = true)\n",
      " |-- mqtt.conflag.uname: double (nullable = true)\n",
      " |-- mqtt.conflag.willflag: double (nullable = true)\n",
      " |-- mqtt.conflags: string (nullable = true)\n",
      " |-- mqtt.dupflag: double (nullable = true)\n",
      " |-- mqtt.hdrflags: string (nullable = true)\n",
      " |-- mqtt.kalive: double (nullable = true)\n",
      " |-- mqtt.len: double (nullable = true)\n",
      " |-- mqtt.msg: string (nullable = true)\n",
      " |-- mqtt.msgid: double (nullable = true)\n",
      " |-- mqtt.msgtype: double (nullable = true)\n",
      " |-- mqtt.proto_len: double (nullable = true)\n",
      " |-- mqtt.protoname: string (nullable = true)\n",
      " |-- mqtt.qos: double (nullable = true)\n",
      " |-- mqtt.retain: double (nullable = true)\n",
      " |-- mqtt.sub.qos: double (nullable = true)\n",
      " |-- mqtt.suback.qos: double (nullable = true)\n",
      " |-- mqtt.ver: double (nullable = true)\n",
      " |-- mqtt.willmsg: double (nullable = true)\n",
      " |-- mqtt.willmsg_len: double (nullable = true)\n",
      " |-- mqtt.willtopic: double (nullable = true)\n",
      " |-- mqtt.willtopic_len: double (nullable = true)\n",
      " |-- target: string (nullable = true)\n",
      " |-- istrain: string (nullable = true)\n",
      "\n"
     ]
    }
   ],
   "source": [
    "df_read.printSchema()"
   ]
  },
  {
   "cell_type": "code",
   "execution_count": 26,
   "id": "9e821628-750d-4cb8-81b7-38b0be3c3364",
   "metadata": {},
   "outputs": [],
   "source": [
    "for i in df_read.columns:\n",
    "    df_read=df_read.withColumnRenamed(i,i.replace('.','_'))"
   ]
  },
  {
   "cell_type": "code",
   "execution_count": 27,
   "id": "edce8201-1d9f-4c21-a7b7-82be0257c17d",
   "metadata": {},
   "outputs": [
    {
     "name": "stdout",
     "output_type": "stream",
     "text": [
      "root\n",
      " |-- tcp_flags: string (nullable = true)\n",
      " |-- tcp_time_delta: double (nullable = true)\n",
      " |-- tcp_len: integer (nullable = true)\n",
      " |-- mqtt_conack_flags: string (nullable = true)\n",
      " |-- mqtt_conack_flags_reserved: double (nullable = true)\n",
      " |-- mqtt_conack_flags_sp: double (nullable = true)\n",
      " |-- mqtt_conack_val: double (nullable = true)\n",
      " |-- mqtt_conflag_cleansess: double (nullable = true)\n",
      " |-- mqtt_conflag_passwd: double (nullable = true)\n",
      " |-- mqtt_conflag_qos: double (nullable = true)\n",
      " |-- mqtt_conflag_reserved: double (nullable = true)\n",
      " |-- mqtt_conflag_retain: double (nullable = true)\n",
      " |-- mqtt_conflag_uname: double (nullable = true)\n",
      " |-- mqtt_conflag_willflag: double (nullable = true)\n",
      " |-- mqtt_conflags: string (nullable = true)\n",
      " |-- mqtt_dupflag: double (nullable = true)\n",
      " |-- mqtt_hdrflags: string (nullable = true)\n",
      " |-- mqtt_kalive: double (nullable = true)\n",
      " |-- mqtt_len: double (nullable = true)\n",
      " |-- mqtt_msg: string (nullable = true)\n",
      " |-- mqtt_msgid: double (nullable = true)\n",
      " |-- mqtt_msgtype: double (nullable = true)\n",
      " |-- mqtt_proto_len: double (nullable = true)\n",
      " |-- mqtt_protoname: string (nullable = true)\n",
      " |-- mqtt_qos: double (nullable = true)\n",
      " |-- mqtt_retain: double (nullable = true)\n",
      " |-- mqtt_sub_qos: double (nullable = true)\n",
      " |-- mqtt_suback_qos: double (nullable = true)\n",
      " |-- mqtt_ver: double (nullable = true)\n",
      " |-- mqtt_willmsg: double (nullable = true)\n",
      " |-- mqtt_willmsg_len: double (nullable = true)\n",
      " |-- mqtt_willtopic: double (nullable = true)\n",
      " |-- mqtt_willtopic_len: double (nullable = true)\n",
      " |-- target: string (nullable = true)\n",
      " |-- istrain: string (nullable = true)\n",
      "\n"
     ]
    }
   ],
   "source": [
    "df_read.printSchema()"
   ]
  },
  {
   "cell_type": "markdown",
   "id": "823f72e5-ae6d-4cac-a697-becd0d64e825",
   "metadata": {},
   "source": [
    "### Task 2"
   ]
  },
  {
   "cell_type": "markdown",
   "id": "8e7f6963-5927-41ee-bece-ba23b60b0364",
   "metadata": {},
   "source": [
    "#### Task 2 part 1"
   ]
  },
  {
   "cell_type": "code",
   "execution_count": 28,
   "id": "e8f8b933-7701-4deb-ad35-a66c0d66ffab",
   "metadata": {},
   "outputs": [
    {
     "name": "stdout",
     "output_type": "stream",
     "text": [
      "+------------------+\n",
      "|     avg(mqtt_len)|\n",
      "+------------------+\n",
      "|31.435725201384873|\n",
      "+------------------+\n",
      "\n"
     ]
    }
   ],
   "source": [
    "q1=df_read.where(df_read.istrain == '1').select(mean('mqtt_len')).show()"
   ]
  },
  {
   "cell_type": "markdown",
   "id": "b4a35f9f-7d1a-4d6c-b801-07a415e47dbf",
   "metadata": {},
   "source": [
    "#### Task 2 part 2"
   ]
  },
  {
   "cell_type": "code",
   "execution_count": 29,
   "id": "5f21a9cb-5d44-430a-920f-a61e78c22d50",
   "metadata": {},
   "outputs": [],
   "source": [
    "B=df_read.groupby('target').mean('tcp_len')"
   ]
  },
  {
   "cell_type": "code",
   "execution_count": 30,
   "id": "c34465cf-a783-49ad-9621-bf8020675cf1",
   "metadata": {
    "tags": []
   },
   "outputs": [
    {
     "name": "stdout",
     "output_type": "stream",
     "text": [
      "+----------+------------------+\n",
      "|    target|      avg(tcp_len)|\n",
      "+----------+------------------+\n",
      "|   slowite|3.9993479678330797|\n",
      "|bruteforce|3.9871043376318873|\n",
      "|     flood|13313.415986949429|\n",
      "| malformed| 20.97491761259612|\n",
      "|       dos|312.65759830457716|\n",
      "|legitimate| 7.776101001432345|\n",
      "+----------+------------------+\n",
      "\n"
     ]
    }
   ],
   "source": [
    "B.show()"
   ]
  },
  {
   "cell_type": "markdown",
   "id": "c4df0d55-bc50-4a16-a6c9-ae5e01d60dc1",
   "metadata": {},
   "source": [
    "#### Task 2 part 3"
   ]
  },
  {
   "cell_type": "code",
   "execution_count": 31,
   "id": "3da9dee2-9569-45ec-93fe-aab0c624a1a0",
   "metadata": {},
   "outputs": [],
   "source": [
    "def freqX(df : pyspark.sql.dataframe.DataFrame, X: int):\n",
    "    \n",
    "    count_class = df.groupby('tcp_flags').count().sort('count',ascending=False)\n",
    "    \n",
    "    assert X<= count_class.count() , f\" Given {X} parameter is greater than number of TCP Flags {count_class.count()}\"\n",
    "    \n",
    "    count_class = count_class.limit(X)\n",
    "    \n",
    "    return count_class"
   ]
  },
  {
   "cell_type": "code",
   "execution_count": 35,
   "id": "536008a1-4b74-43ce-92cc-ffea709f24b9",
   "metadata": {},
   "outputs": [],
   "source": [
    "counted=freqX(df_read,6)"
   ]
  },
  {
   "cell_type": "code",
   "execution_count": 36,
   "id": "f6b91f52-76f4-4f94-b11c-2af9a963462c",
   "metadata": {},
   "outputs": [
    {
     "name": "stdout",
     "output_type": "stream",
     "text": [
      "+----------+------+\n",
      "| tcp_flags| count|\n",
      "+----------+------+\n",
      "|0x00000018|183076|\n",
      "|0x00000010|134547|\n",
      "|0x00000011|  4198|\n",
      "|0x00000002|  3372|\n",
      "|0x00000012|  3372|\n",
      "|0x00000004|  1592|\n",
      "+----------+------+\n",
      "\n"
     ]
    }
   ],
   "source": [
    "counted.show()"
   ]
  },
  {
   "cell_type": "code",
   "execution_count": null,
   "id": "62cfc13b-bbf5-48d5-ac48-4c34d26af324",
   "metadata": {},
   "outputs": [],
   "source": []
  }
 ],
 "metadata": {
  "kernelspec": {
   "display_name": "Python 3 (ipykernel)",
   "language": "python",
   "name": "python3"
  },
  "language_info": {
   "codemirror_mode": {
    "name": "ipython",
    "version": 3
   },
   "file_extension": ".py",
   "mimetype": "text/x-python",
   "name": "python",
   "nbconvert_exporter": "python",
   "pygments_lexer": "ipython3",
   "version": "3.9.12"
  }
 },
 "nbformat": 4,
 "nbformat_minor": 5
}
